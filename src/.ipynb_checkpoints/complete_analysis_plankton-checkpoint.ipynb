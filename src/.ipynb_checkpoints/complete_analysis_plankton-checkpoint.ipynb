{
 "cells": [
  {
   "cell_type": "code",
   "execution_count": 1,
   "metadata": {
    "collapsed": true
   },
   "outputs": [],
   "source": [
    "# importing data manipulation as well as plotting packages\n",
    "import pandas as pd\n",
    "import matplotlib.pyplot as plt\n",
    "import numpy as np\n",
    "\n",
    "# importing statistical packages\n",
    "import statsmodels.api as sm\n",
    "import scipy\n",
    "\n",
    "%matplotlib inline"
   ]
  },
  {
   "cell_type": "code",
   "execution_count": 2,
   "metadata": {
    "collapsed": true
   },
   "outputs": [],
   "source": [
    "zoo= pd.read_csv('../data/Zooplankton_2009-2012.csv', sep=',', index_col='Date')"
   ]
  },
  {
   "cell_type": "code",
   "execution_count": 3,
   "metadata": {
    "collapsed": false
   },
   "outputs": [
    {
     "data": {
      "text/html": [
       "<div>\n",
       "<table border=\"1\" class=\"dataframe\">\n",
       "  <thead>\n",
       "    <tr style=\"text-align: right;\">\n",
       "      <th></th>\n",
       "      <th>copepods</th>\n",
       "      <th>Cirripedia</th>\n",
       "      <th>euph. larvae</th>\n",
       "      <th>euphausid</th>\n",
       "      <th>Ostracods</th>\n",
       "      <th>Oiklioplera</th>\n",
       "      <th>Bryozoan Larvae(m3)</th>\n",
       "      <th>Decapod</th>\n",
       "      <th>Cnidarians</th>\n",
       "      <th>Annelids</th>\n",
       "      <th>Malacostra</th>\n",
       "      <th>Cladocera</th>\n",
       "      <th>Chaetognath</th>\n",
       "      <th>mollusc/gastropod</th>\n",
       "      <th>Other larvae</th>\n",
       "      <th>Total</th>\n",
       "    </tr>\n",
       "    <tr>\n",
       "      <th>Date</th>\n",
       "      <th></th>\n",
       "      <th></th>\n",
       "      <th></th>\n",
       "      <th></th>\n",
       "      <th></th>\n",
       "      <th></th>\n",
       "      <th></th>\n",
       "      <th></th>\n",
       "      <th></th>\n",
       "      <th></th>\n",
       "      <th></th>\n",
       "      <th></th>\n",
       "      <th></th>\n",
       "      <th></th>\n",
       "      <th></th>\n",
       "      <th></th>\n",
       "    </tr>\n",
       "  </thead>\n",
       "  <tbody>\n",
       "    <tr>\n",
       "      <th>2009-02-24</th>\n",
       "      <td>56.36</td>\n",
       "      <td>0.13</td>\n",
       "      <td>0.00</td>\n",
       "      <td>0.51</td>\n",
       "      <td>1.65</td>\n",
       "      <td>1.40</td>\n",
       "      <td>0.13</td>\n",
       "      <td>0.76</td>\n",
       "      <td>2.42</td>\n",
       "      <td>0.00</td>\n",
       "      <td>0.25</td>\n",
       "      <td>0</td>\n",
       "      <td>0.51</td>\n",
       "      <td>0.00</td>\n",
       "      <td>0.89</td>\n",
       "      <td>65.01</td>\n",
       "    </tr>\n",
       "    <tr>\n",
       "      <th>2009-03-02</th>\n",
       "      <td>1.15</td>\n",
       "      <td>70.23</td>\n",
       "      <td>0.00</td>\n",
       "      <td>0.25</td>\n",
       "      <td>1.27</td>\n",
       "      <td>0.25</td>\n",
       "      <td>0.38</td>\n",
       "      <td>1.02</td>\n",
       "      <td>1.27</td>\n",
       "      <td>0.00</td>\n",
       "      <td>0.89</td>\n",
       "      <td>0</td>\n",
       "      <td>0.51</td>\n",
       "      <td>0.00</td>\n",
       "      <td>0.00</td>\n",
       "      <td>77.35</td>\n",
       "    </tr>\n",
       "    <tr>\n",
       "      <th>2009-03-10</th>\n",
       "      <td>147.46</td>\n",
       "      <td>134.86</td>\n",
       "      <td>40.08</td>\n",
       "      <td>0.64</td>\n",
       "      <td>1.40</td>\n",
       "      <td>7.63</td>\n",
       "      <td>1.78</td>\n",
       "      <td>0.76</td>\n",
       "      <td>0.51</td>\n",
       "      <td>2.93</td>\n",
       "      <td>0.76</td>\n",
       "      <td>0</td>\n",
       "      <td>0.76</td>\n",
       "      <td>0.00</td>\n",
       "      <td>0.25</td>\n",
       "      <td>339.82</td>\n",
       "    </tr>\n",
       "    <tr>\n",
       "      <th>2009-03-20</th>\n",
       "      <td>68.58</td>\n",
       "      <td>20.87</td>\n",
       "      <td>41.09</td>\n",
       "      <td>0.64</td>\n",
       "      <td>1.40</td>\n",
       "      <td>7.63</td>\n",
       "      <td>4.71</td>\n",
       "      <td>1.53</td>\n",
       "      <td>0.51</td>\n",
       "      <td>1.40</td>\n",
       "      <td>0.13</td>\n",
       "      <td>0</td>\n",
       "      <td>0.13</td>\n",
       "      <td>0.25</td>\n",
       "      <td>0.38</td>\n",
       "      <td>149.49</td>\n",
       "    </tr>\n",
       "    <tr>\n",
       "      <th>2009-03-24</th>\n",
       "      <td>88.04</td>\n",
       "      <td>14.89</td>\n",
       "      <td>20.10</td>\n",
       "      <td>1.91</td>\n",
       "      <td>30.15</td>\n",
       "      <td>6.49</td>\n",
       "      <td>2.29</td>\n",
       "      <td>1.91</td>\n",
       "      <td>1.02</td>\n",
       "      <td>1.53</td>\n",
       "      <td>0.00</td>\n",
       "      <td>0</td>\n",
       "      <td>0.25</td>\n",
       "      <td>0.00</td>\n",
       "      <td>0.51</td>\n",
       "      <td>169.21</td>\n",
       "    </tr>\n",
       "  </tbody>\n",
       "</table>\n",
       "</div>"
      ],
      "text/plain": [
       "            copepods   Cirripedia  euph. larvae  euphausid  Ostracods   \\\n",
       "Date                                                                     \n",
       "2009-02-24      56.36        0.13          0.00       0.51        1.65   \n",
       "2009-03-02       1.15       70.23          0.00       0.25        1.27   \n",
       "2009-03-10     147.46      134.86         40.08       0.64        1.40   \n",
       "2009-03-20      68.58       20.87         41.09       0.64        1.40   \n",
       "2009-03-24      88.04       14.89         20.10       1.91       30.15   \n",
       "\n",
       "            Oiklioplera  Bryozoan Larvae(m3)  Decapod  Cnidarians  Annelids  \\\n",
       "Date                                                                          \n",
       "2009-02-24         1.40                 0.13     0.76        2.42      0.00   \n",
       "2009-03-02         0.25                 0.38     1.02        1.27      0.00   \n",
       "2009-03-10         7.63                 1.78     0.76        0.51      2.93   \n",
       "2009-03-20         7.63                 4.71     1.53        0.51      1.40   \n",
       "2009-03-24         6.49                 2.29     1.91        1.02      1.53   \n",
       "\n",
       "            Malacostra  Cladocera  Chaetognath  mollusc/gastropod  \\\n",
       "Date                                                                \n",
       "2009-02-24        0.25          0         0.51               0.00   \n",
       "2009-03-02        0.89          0         0.51               0.00   \n",
       "2009-03-10        0.76          0         0.76               0.00   \n",
       "2009-03-20        0.13          0         0.13               0.25   \n",
       "2009-03-24        0.00          0         0.25               0.00   \n",
       "\n",
       "            Other larvae   Total  \n",
       "Date                              \n",
       "2009-02-24          0.89   65.01  \n",
       "2009-03-02          0.00   77.35  \n",
       "2009-03-10          0.25  339.82  \n",
       "2009-03-20          0.38  149.49  \n",
       "2009-03-24          0.51  169.21  "
      ]
     },
     "execution_count": 3,
     "metadata": {},
     "output_type": "execute_result"
    }
   ],
   "source": [
    "zoo=zoo.fillna(0)\n",
    "zoo.head()\n",
    "\n"
   ]
  },
  {
   "cell_type": "code",
   "execution_count": 4,
   "metadata": {
    "collapsed": false
   },
   "outputs": [
    {
     "data": {
      "text/plain": [
       "[<matplotlib.lines.Line2D at 0x10a5feef0>]"
      ]
     },
     "execution_count": 4,
     "metadata": {},
     "output_type": "execute_result"
    },
    {
     "data": {
      "image/png": "[encoded data removed]",
      "text/plain": [
       "<matplotlib.figure.Figure at 0x10a3917f0>"
      ]
     },
     "metadata": {},
     "output_type": "display_data"
    }
   ],
   "source": [
    "plt.plot(zoo.Total)"
   ]
  },
  {
   "cell_type": "code",
   "execution_count": 5,
   "metadata": {
    "collapsed": true
   },
   "outputs": [],
   "source": [
    "zoo.index = pd.to_datetime(zoo.index, unit='d')"
   ]
  },
  {
   "cell_type": "code",
   "execution_count": 6,
   "metadata": {
    "collapsed": false
   },
   "outputs": [
    {
     "data": {
      "text/html": [
       "<div>\n",
       "<table border=\"1\" class=\"dataframe\">\n",
       "  <thead>\n",
       "    <tr style=\"text-align: right;\">\n",
       "      <th></th>\n",
       "      <th>copepods</th>\n",
       "      <th>Cirripedia</th>\n",
       "      <th>euph. larvae</th>\n",
       "      <th>euphausid</th>\n",
       "      <th>Ostracods</th>\n",
       "      <th>Oiklioplera</th>\n",
       "      <th>Bryozoan Larvae(m3)</th>\n",
       "      <th>Decapod</th>\n",
       "      <th>Cnidarians</th>\n",
       "      <th>Annelids</th>\n",
       "      <th>Malacostra</th>\n",
       "      <th>Cladocera</th>\n",
       "      <th>Chaetognath</th>\n",
       "      <th>mollusc/gastropod</th>\n",
       "      <th>Other larvae</th>\n",
       "      <th>Total</th>\n",
       "    </tr>\n",
       "    <tr>\n",
       "      <th>Date</th>\n",
       "      <th></th>\n",
       "      <th></th>\n",
       "      <th></th>\n",
       "      <th></th>\n",
       "      <th></th>\n",
       "      <th></th>\n",
       "      <th></th>\n",
       "      <th></th>\n",
       "      <th></th>\n",
       "      <th></th>\n",
       "      <th></th>\n",
       "      <th></th>\n",
       "      <th></th>\n",
       "      <th></th>\n",
       "      <th></th>\n",
       "      <th></th>\n",
       "    </tr>\n",
       "  </thead>\n",
       "  <tbody>\n",
       "    <tr>\n",
       "      <th>2009-02-24</th>\n",
       "      <td>56.36</td>\n",
       "      <td>0.13</td>\n",
       "      <td>0.00</td>\n",
       "      <td>0.51</td>\n",
       "      <td>1.65</td>\n",
       "      <td>1.40</td>\n",
       "      <td>0.13</td>\n",
       "      <td>0.76</td>\n",
       "      <td>2.42</td>\n",
       "      <td>0.00</td>\n",
       "      <td>0.25</td>\n",
       "      <td>0</td>\n",
       "      <td>0.51</td>\n",
       "      <td>0.00</td>\n",
       "      <td>0.89</td>\n",
       "      <td>65.01</td>\n",
       "    </tr>\n",
       "    <tr>\n",
       "      <th>2009-03-02</th>\n",
       "      <td>1.15</td>\n",
       "      <td>70.23</td>\n",
       "      <td>0.00</td>\n",
       "      <td>0.25</td>\n",
       "      <td>1.27</td>\n",
       "      <td>0.25</td>\n",
       "      <td>0.38</td>\n",
       "      <td>1.02</td>\n",
       "      <td>1.27</td>\n",
       "      <td>0.00</td>\n",
       "      <td>0.89</td>\n",
       "      <td>0</td>\n",
       "      <td>0.51</td>\n",
       "      <td>0.00</td>\n",
       "      <td>0.00</td>\n",
       "      <td>77.35</td>\n",
       "    </tr>\n",
       "    <tr>\n",
       "      <th>2009-03-10</th>\n",
       "      <td>147.46</td>\n",
       "      <td>134.86</td>\n",
       "      <td>40.08</td>\n",
       "      <td>0.64</td>\n",
       "      <td>1.40</td>\n",
       "      <td>7.63</td>\n",
       "      <td>1.78</td>\n",
       "      <td>0.76</td>\n",
       "      <td>0.51</td>\n",
       "      <td>2.93</td>\n",
       "      <td>0.76</td>\n",
       "      <td>0</td>\n",
       "      <td>0.76</td>\n",
       "      <td>0.00</td>\n",
       "      <td>0.25</td>\n",
       "      <td>339.82</td>\n",
       "    </tr>\n",
       "    <tr>\n",
       "      <th>2009-03-20</th>\n",
       "      <td>68.58</td>\n",
       "      <td>20.87</td>\n",
       "      <td>41.09</td>\n",
       "      <td>0.64</td>\n",
       "      <td>1.40</td>\n",
       "      <td>7.63</td>\n",
       "      <td>4.71</td>\n",
       "      <td>1.53</td>\n",
       "      <td>0.51</td>\n",
       "      <td>1.40</td>\n",
       "      <td>0.13</td>\n",
       "      <td>0</td>\n",
       "      <td>0.13</td>\n",
       "      <td>0.25</td>\n",
       "      <td>0.38</td>\n",
       "      <td>149.49</td>\n",
       "    </tr>\n",
       "    <tr>\n",
       "      <th>2009-03-24</th>\n",
       "      <td>88.04</td>\n",
       "      <td>14.89</td>\n",
       "      <td>20.10</td>\n",
       "      <td>1.91</td>\n",
       "      <td>30.15</td>\n",
       "      <td>6.49</td>\n",
       "      <td>2.29</td>\n",
       "      <td>1.91</td>\n",
       "      <td>1.02</td>\n",
       "      <td>1.53</td>\n",
       "      <td>0.00</td>\n",
       "      <td>0</td>\n",
       "      <td>0.25</td>\n",
       "      <td>0.00</td>\n",
       "      <td>0.51</td>\n",
       "      <td>169.21</td>\n",
       "    </tr>\n",
       "  </tbody>\n",
       "</table>\n",
       "</div>"
      ],
      "text/plain": [
       "            copepods   Cirripedia  euph. larvae  euphausid  Ostracods   \\\n",
       "Date                                                                     \n",
       "2009-02-24      56.36        0.13          0.00       0.51        1.65   \n",
       "2009-03-02       1.15       70.23          0.00       0.25        1.27   \n",
       "2009-03-10     147.46      134.86         40.08       0.64        1.40   \n",
       "2009-03-20      68.58       20.87         41.09       0.64        1.40   \n",
       "2009-03-24      88.04       14.89         20.10       1.91       30.15   \n",
       "\n",
       "            Oiklioplera  Bryozoan Larvae(m3)  Decapod  Cnidarians  Annelids  \\\n",
       "Date                                                                          \n",
       "2009-02-24         1.40                 0.13     0.76        2.42      0.00   \n",
       "2009-03-02         0.25                 0.38     1.02        1.27      0.00   \n",
       "2009-03-10         7.63                 1.78     0.76        0.51      2.93   \n",
       "2009-03-20         7.63                 4.71     1.53        0.51      1.40   \n",
       "2009-03-24         6.49                 2.29     1.91        1.02      1.53   \n",
       "\n",
       "            Malacostra  Cladocera  Chaetognath  mollusc/gastropod  \\\n",
       "Date                                                                \n",
       "2009-02-24        0.25          0         0.51               0.00   \n",
       "2009-03-02        0.89          0         0.51               0.00   \n",
       "2009-03-10        0.76          0         0.76               0.00   \n",
       "2009-03-20        0.13          0         0.13               0.25   \n",
       "2009-03-24        0.00          0         0.25               0.00   \n",
       "\n",
       "            Other larvae   Total  \n",
       "Date                              \n",
       "2009-02-24          0.89   65.01  \n",
       "2009-03-02          0.00   77.35  \n",
       "2009-03-10          0.25  339.82  \n",
       "2009-03-20          0.38  149.49  \n",
       "2009-03-24          0.51  169.21  "
      ]
     },
     "execution_count": 6,
     "metadata": {},
     "output_type": "execute_result"
    }
   ],
   "source": [
    "zoo.head()"
   ]
  },
  {
   "cell_type": "code",
   "execution_count": 7,
   "metadata": {
    "collapsed": true
   },
   "outputs": [],
   "source": [
    "zoo_2009 = zoo['2009']"
   ]
  },
  {
   "cell_type": "code",
   "execution_count": 11,
   "metadata": {
    "collapsed": false
   },
   "outputs": [
    {
     "data": {
      "text/plain": [
       "[<matplotlib.lines.Line2D at 0x10ab85978>]"
      ]
     },
     "execution_count": 11,
     "metadata": {},
     "output_type": "execute_result"
    },
    {
     "data": {
      "image/png": "[encoded data removed]",
      "text/plain": [
       "<matplotlib.figure.Figure at 0x10aa3cdd8>"
      ]
     },
     "metadata": {},
     "output_type": "display_data"
    }
   ],
   "source": [
    "plt.figure(figsize=(14,4))\n",
    "plt.plot(zoo_2009.index, zoo_2009.Total)"
   ]
  },
  {
   "cell_type": "code",
   "execution_count": null,
   "metadata": {
    "collapsed": true
   },
   "outputs": [],
   "source": []
  }
 ],
 "metadata": {
  "kernelspec": {
   "display_name": "Python 3",
   "language": "python",
   "name": "python3"
  },
  "language_info": {
   "codemirror_mode": {
    "name": "ipython",
    "version": 3
   },
   "file_extension": ".py",
   "mimetype": "text/x-python",
   "name": "python",
   "nbconvert_exporter": "python",
   "pygments_lexer": "ipython3",
   "version": "3.4.3"
  }
 },
 "nbformat": 4,
 "nbformat_minor": 0
}
